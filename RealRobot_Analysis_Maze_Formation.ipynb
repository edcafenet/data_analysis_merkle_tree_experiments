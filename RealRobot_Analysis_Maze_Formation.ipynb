{
 "cells": [
  {
   "cell_type": "code",
   "execution_count": 17,
   "metadata": {},
   "outputs": [],
   "source": [
    "import rosbag\n",
    "import pickle\n",
    "import rospy\n",
    "import datetime\n",
    "import msgpack\n",
    "import gc\n",
    "import pandas as pd\n",
    "import numpy as np\n",
    "import matplotlib.pyplot as plt\n",
    "import glob2, re\n",
    "from collections import Counter\n",
    "import networkx as nx\n",
    "import community as comm\n",
    "import seaborn as sns\n",
    "from joblib import Parallel, delayed \n",
    "%matplotlib inline"
   ]
  },
  {
   "cell_type": "markdown",
   "metadata": {},
   "source": [
    "# Data filtering and conversion"
   ]
  },
  {
   "cell_type": "code",
   "execution_count": 2,
   "metadata": {},
   "outputs": [],
   "source": [
    "def TopicFilter(bag, BASE_ROBOT_ID):\n",
    "\n",
    "    topics = bag.get_type_and_topic_info().topics.keys()\n",
    "    topics_excluing_list = []\n",
    "    topics_valid_list = []\n",
    "\n",
    "    # remove topics that appeared in argos\n",
    "    regex = re.compile('^/epuck+_.+_.+/')\n",
    "    argos_sim_topics = filter(regex.search, topics)\n",
    "        \n",
    "    # count the number of robots present in the rosbag file\n",
    "    regex = re.compile('^/epuck+_.+/init_merkle_tree')\n",
    "    number_of_robots_in_bag = len(filter(regex.search, topics))\n",
    "    \n",
    "    for id in xrange(BASE_ROBOT_ID,BASE_ROBOT_ID + number_of_robots_in_bag):\n",
    "        topic_goal = \"/epuck_\" + str(id) + \"/diff_drive_go_to_goal\" + \"/goal\"\n",
    "        topic_goal_achieved = \"/epuck_\" + str(id) + \"/diff_drive_go_to_goal\" + \"/goal_achieved\"\n",
    "        topic_distance_to_goal = \"/epuck_\" + str(id) + \"/diff_drive_go_to_goal\" + \"/distance_to_goal\"\n",
    "        topic_goto = \"/epuck_\" + str(id) + \"/diff_drive_go_to_goal\" + \"/go_to\"\n",
    "        topic_results = \"/epuck_\" + str(id) + \"/diff_drive_go_to_goal\" + \"/result\"\n",
    "        topic_cancel = \"/epuck_\" + str(id) + \"/diff_drive_go_to_goal\" + \"/cancel\"\n",
    "        topic_status = \"/epuck_\" + str(id) + \"/diff_drive_go_to_goal\" + \"/status\"\n",
    "        topic_cmd_vel = \"/epuck_\" + str(id) + \"/cmd_vel\"\n",
    "\n",
    "        topics_excluing_list.extend([topic_goal, topic_distance_to_goal, topic_goto, \n",
    "                                     topic_goal_achieved, topic_results, topic_cancel, \n",
    "                                     topic_status, topic_cmd_vel])\n",
    "\n",
    "    topics_excluing_list.extend(['/rosout', '/rosout_agg'])\n",
    "    topics_excluing_list.extend(argos_sim_topics)\n",
    "\n",
    "    for topic in topics:\n",
    "        if topic not in topics_excluing_list:\n",
    "            topics_valid_list.append(topic)\n",
    "          \n",
    "    return topics_valid_list"
   ]
  },
  {
   "cell_type": "code",
   "execution_count": 3,
   "metadata": {},
   "outputs": [],
   "source": [
    "def ROSBagToPandasDataFrame(rosbag_filename, convert_to_csv=False, convert_to_pickle=False, convert_to_msgpack=False, convert_to_hdf5=False):\n",
    "\n",
    "    bag = rosbag.Bag(rosbag_filename)\n",
    "    topics_valid_list = TopicFilter(bag, 20)\n",
    "    msgs = []\n",
    "\n",
    "    # load the messages into the list\n",
    "    for topic, msg, t in bag.read_messages(topics=topics_valid_list):\n",
    "        msgs.append({'topic': topic, 'msg': msg, 't': t})\n",
    "    \n",
    "    # close bag\n",
    "    bag.close()\n",
    "    \n",
    "    # robsag to pandas\n",
    "    df = pd.DataFrame(msgs)\n",
    "    \n",
    "    # convert timestamp to pandas datatime format\n",
    "    timestamps_converted = [str(i)[:13] for i in df['t']]\n",
    "    df['t'] = pd.to_datetime(timestamps_converted, unit='ms')\n",
    "    df=df.set_index('t')\n",
    "    \n",
    "    if (convert_to_csv):\n",
    "        df.to_csv(rosbag_filename +'.csv')\n",
    "    \n",
    "    if (convert_to_pickle):\n",
    "        df.to_pickle(rosbag_filename +'.pkl')\n",
    "        \n",
    "    if (convert_to_msgpack):\n",
    "        # Write msgpack file\n",
    "        with open(rosbag_filename +'.msgpack', \"wb\") as outfile:\n",
    "            packed = msgpack.packb(df.to_msgpack())\n",
    "            outfile.write(packed)\n",
    "            \n",
    "    if (convert_to_hdf5):\n",
    "        df.to_hdf(rosbag_filename +'.hdf5', key='df', mode='w')\n",
    "            \n",
    "    # return dataframe\n",
    "    return df"
   ]
  },
  {
   "cell_type": "markdown",
   "metadata": {},
   "source": [
    "#  Finishing Time and Success Rate Functions"
   ]
  },
  {
   "cell_type": "code",
   "execution_count": 4,
   "metadata": {},
   "outputs": [],
   "source": [
    "def MerkleTreeCompletionTimePerRobot(df, robot_topic):\n",
    "    msgs_topic = df.loc[df['topic'] == robot_topic]['msg']\n",
    "    msg_begin = msgs_topic.iloc[0]\n",
    "    msg_end = None\n",
    "    \n",
    "    for msg in msgs_topic:\n",
    "        if(msg.leafs[-1].completed == True):\n",
    "            msg_end = msg\n",
    "            break\n",
    "     \n",
    "    return msg_end.header.stamp.secs - msg_begin.header.stamp.secs, df.loc[df['msg'] == msg_end].index[0]"
   ]
  },
  {
   "cell_type": "code",
   "execution_count": 5,
   "metadata": {},
   "outputs": [],
   "source": [
    "def FinishingTimeLastRobotToCompleteMerkleTree(INITIAL_ID, NUMBER_OF_ROBOTS, THRESHOLD, DF):\n",
    "    robots_finishing_list = []\n",
    "\n",
    "    for id in xrange(INITIAL_ID, INITIAL_ID+NUMBER_OF_ROBOTS):\n",
    "        topic_name = '/epuck_' + str(id) + '/comm/merkle_completed'\n",
    "        try:\n",
    "            robot_finishing_time = MerkleTreeCompletionTimePerRobot(DF, topic_name)\n",
    "            if (robot_finishing_time < THRESHOLD):\n",
    "                robots_finishing_list.append(robot_finishing_time)\n",
    "        except:\n",
    "            pass\n",
    "           \n",
    "    return max(robots_finishing_list)"
   ]
  },
  {
   "cell_type": "code",
   "execution_count": 6,
   "metadata": {},
   "outputs": [],
   "source": [
    "def FinishingTimeFirstRobotToCompleteMerkleTree(INITIAL_ID, NUMBER_OF_ROBOTS, THRESHOLD, DF):\n",
    "    robots_finishing_list = []\n",
    "    robots_finishing_timestamps = []\n",
    "\n",
    "    for id in xrange(INITIAL_ID, INITIAL_ID+NUMBER_OF_ROBOTS):\n",
    "        topic_name = '/epuck_' + str(id) + '/comm/merkle_completed'\n",
    "        try:\n",
    "            robot_finishing_time, robot_finishing_timestamp = MerkleTreeCompletionTimePerRobot(DF, topic_name)\n",
    "            if (robot_finishing_time < THRESHOLD):\n",
    "                robots_finishing_list.append(robot_finishing_time)\n",
    "                robots_finishing_timestamps.append(robot_finishing_timestamp)\n",
    "        except:\n",
    "            pass\n",
    "           \n",
    "    return min(i for i in robots_finishing_list if i > 0), min(robots_finishing_timestamps)"
   ]
  },
  {
   "cell_type": "code",
   "execution_count": 7,
   "metadata": {},
   "outputs": [],
   "source": [
    "def CompletionSuccess(THRESHOLD, FINISHING_TIMES):\n",
    "\n",
    "    filtered_times = []\n",
    "\n",
    "    for t in range(0,THRESHOLD):\n",
    "        filtered_times.append(len([i for i in FINISHING_TIMES if i <= t]))\n",
    "  \n",
    "    return np.true_divide(np.array(filtered_times), len(FINISHING_TIMES))"
   ]
  },
  {
   "cell_type": "markdown",
   "metadata": {},
   "source": [
    "# Communication Cost and Privacy Functions"
   ]
  },
  {
   "cell_type": "code",
   "execution_count": 8,
   "metadata": {},
   "outputs": [],
   "source": [
    "# function to get unique values \n",
    "def unique(list1): \n",
    "    x = np.array(list1)\n",
    "    return np.unique(x)"
   ]
  },
  {
   "cell_type": "code",
   "execution_count": 9,
   "metadata": {},
   "outputs": [],
   "source": [
    "def sdi(data):\n",
    "    from math import log as ln\n",
    "    \n",
    "    def p(n, N):\n",
    "        if n is  0:\n",
    "            return 0\n",
    "        else:\n",
    "            return (float(n)/N) * ln(float(n)/N)\n",
    "            \n",
    "    N = sum(data)\n",
    "    return -sum(p(n, N) for n in data if n is not 0)"
   ]
  },
  {
   "cell_type": "code",
   "execution_count": 10,
   "metadata": {},
   "outputs": [],
   "source": [
    "# get_size function\n",
    "def get_size(obj, seen=None):\n",
    "    \"\"\"Recursively finds size of objects\"\"\"\n",
    "    size = sys.getsizeof(obj)\n",
    "    if seen is None:\n",
    "        seen = set()\n",
    "    obj_id = id(obj)\n",
    "    if obj_id in seen:\n",
    "        return 0\n",
    "    # Important mark as seen *before* entering recursion to gracefully handle\n",
    "    # self-referential objects\n",
    "    seen.add(obj_id)\n",
    "    if isinstance(obj, dict):\n",
    "        size += sum([get_size(v, seen) for v in obj.values()])\n",
    "        size += sum([get_size(k, seen) for k in obj.keys()])\n",
    "    elif hasattr(obj, '__dict__'):\n",
    "        size += get_size(obj.__dict__, seen)\n",
    "    elif hasattr(obj, '__iter__') and not isinstance(obj, (str, bytes, bytearray)):\n",
    "        size += sum([get_size(i, seen) for i in obj])\n",
    "    return size"
   ]
  },
  {
   "cell_type": "code",
   "execution_count": 11,
   "metadata": {},
   "outputs": [],
   "source": [
    "def ExtractCommunicationGraphEndOfExperiment(INITIAL_ID, NUMBER_OF_ROBOTS, NUMBER_OF_LEAVES, DF):\n",
    "    G = nx.DiGraph()\n",
    "    for robotid in xrange(INITIAL_ID, INITIAL_ID+NUMBER_OF_ROBOTS):\n",
    "        G.add_node(robotid)\n",
    "        msgs_topic = DF.loc[DF['topic'] == '/epuck_' + str(robotid) + '/comm/merkle_completed']['msg']\n",
    "        from_robots = []\n",
    "        for leaf in msgs_topic.iloc[-1].leafs:\n",
    "            if leaf.received == True:\n",
    "                from_robots.append(leaf.from_robot)         \n",
    "        for other_robot in unique(from_robots):\n",
    "            G.add_edge(other_robot, robotid, weight=Counter(from_robots)[other_robot])\n",
    "    return G"
   ]
  },
  {
   "cell_type": "code",
   "execution_count": 12,
   "metadata": {},
   "outputs": [],
   "source": [
    "def ExtractCommunicationGraphFirstRobotToCompleteMerkleTree(INITIAL_ID, NUMBER_OF_ROBOTS, NUMBER_OF_LEAVES, DF):\n",
    "    G = nx.DiGraph()\n",
    "    finishing_time, finishing_timestamp = FinishingTimeFirstRobotToCompleteMerkleTree(INITIAL_ID, NUMBER_OF_ROBOTS, 5100, DF)  \n",
    "    for robotid in xrange(INITIAL_ID, INITIAL_ID+NUMBER_OF_ROBOTS):\n",
    "        G.add_node(robotid)\n",
    "        msgs_time_completed_merkle = DF.loc[(DF.index <= finishing_timestamp)]\n",
    "        completion_msg = msgs_time_completed_merkle.loc[msgs_time_completed_merkle['topic'] == '/epuck_' + str(robotid) + '/comm/merkle_completed']['msg']\n",
    "        last_completion_msg = completion_msg[-1]\n",
    "        from_robots = []\n",
    "        for leaf in last_completion_msg.leafs:\n",
    "             if leaf.received == True:\n",
    "                from_robots.append(leaf.from_robot)         \n",
    "        for other_robot in unique(from_robots):\n",
    "             G.add_edge(other_robot, robotid, weight=Counter(from_robots)[other_robot])\n",
    "    return G"
   ]
  },
  {
   "cell_type": "code",
   "execution_count": 13,
   "metadata": {},
   "outputs": [],
   "source": [
    "def CommunicationCost(G, NUMBER_OF_LEAVES, HASH_SIZE_IN_BYTES):  \n",
    "    number_of_iterations = sum(nx.get_edge_attributes(G,'weight').values())    \n",
    "    if (number_of_iterations!=0):\n",
    "        return sum(nx.get_edge_attributes(G,'weight').values()) * (np.log2(NUMBER_OF_LEAVES) + 2) * HASH_SIZE_IN_BYTES"
   ]
  },
  {
   "cell_type": "code",
   "execution_count": 14,
   "metadata": {},
   "outputs": [],
   "source": [
    "def PrivacyCoefficient(INITIAL_ID, NUMBER_OF_ROBOTS, NUMBER_OF_LEAVES, DF):\n",
    "    by_all_robots_in_sim = []\n",
    "\n",
    "    for robotid in xrange(INITIAL_ID, INITIAL_ID+NUMBER_OF_ROBOTS):\n",
    "        msgs_topic = DF.loc[DF['topic'] == '/epuck_' + str(robotid) + '/comm/merkle_completed']['msg']\n",
    "        by_this_robot = 0\n",
    "        for leaf in msgs_topic.iloc[-1].leafs:\n",
    "            if leaf.received == False and leaf.hash != \"\":\n",
    "                by_this_robot =+ 1\n",
    "        \n",
    "        by_all_robots_in_sim.append(by_this_robot)\n",
    "\n",
    "        if sum(by_all_robots_in_sim)==NUMBER_OF_LEAVES:\n",
    "            return sdi(by_all_robots_in_sim)/np.log(NUMBER_OF_LEAVES)"
   ]
  },
  {
   "cell_type": "markdown",
   "metadata": {},
   "source": [
    "# Multi-thread loop"
   ]
  },
  {
   "cell_type": "code",
   "execution_count": 15,
   "metadata": {},
   "outputs": [],
   "source": [
    "path=r'/home/eddie/experiments_results/real_robots/maze_formation' \n",
    "ALL_FILES = glob2.glob(path + \"/*/*/*.bag\")\n",
    "RUN_THRESHOLD = 5100\n",
    "NUMBER_OF_ROBOTS_LIST = [16, 20, 24, 28]\n",
    "INITIAL_ID = 20\n",
    "NUMBER_OF_LEAVES = 16\n",
    "HASH_SIZE_IN_BYTES = 32\n",
    "LEAF_RANGE = range(16,17)\n",
    "        \n",
    "def RosbagDataProcessing(num_of_bots):   \n",
    "    FINISHING_TIMES      = []\n",
    "    COMPLETION_SUCCESS   = []\n",
    "    COMMUNICATION_GRAPHS = []\n",
    "    PRIVACY_COEFFICIENT  = []\n",
    "    COMMUNICATION_COST   = []\n",
    "    \n",
    "    regex = re.compile(r'R' + str(num_of_bots))  \n",
    "    FILTERED_FILES = filter(regex.search, ALL_FILES)\n",
    "\n",
    "    for _file in FILTERED_FILES:\n",
    "        DF = ROSBagToPandasDataFrame(_file)\n",
    "        FINISHING_TIMES.append(FinishingTimeFirstRobotToCompleteMerkleTree(INITIAL_ID, num_of_bots, RUN_THRESHOLD, DF)[0])\n",
    "        COMMUNICATION_GRAPHS.append(ExtractCommunicationGraphFirstRobotToCompleteMerkleTree(INITIAL_ID, num_of_bots, NUMBER_OF_LEAVES, DF))\n",
    "        COMMUNICATION_COST.append(CommunicationCost(COMMUNICATION_GRAPHS[-1], NUMBER_OF_LEAVES, HASH_SIZE_IN_BYTES)/1024)\n",
    "        PRIVACY_COEFFICIENT.append(PrivacyCoefficient(INITIAL_ID, num_of_bots, NUMBER_OF_LEAVES, DF))\n",
    "        \n",
    "        del DF\n",
    "        gc.collect()\n",
    "\n",
    "    COMPLETION_SUCCESS = CompletionSuccess(RUN_THRESHOLD, FINISHING_TIMES)      \n",
    "    return FINISHING_TIMES, COMPLETION_SUCCESS, COMMUNICATION_GRAPHS, PRIVACY_COEFFICIENT, COMMUNICATION_COST\n",
    "\n",
    "result = Parallel(n_jobs=-1)(delayed(RosbagDataProcessing)(i) for i in NUMBER_OF_ROBOTS_LIST)\n",
    "FINISHING_TIMES, COMPLETION_SUCCESS, COMMUNICATION_GRAPHS, PRIVACY_COEFFICIENT, COMMUNICATION_COST = zip(*result)"
   ]
  },
  {
   "cell_type": "markdown",
   "metadata": {},
   "source": [
    "# Single thread loop"
   ]
  },
  {
   "cell_type": "code",
   "execution_count": null,
   "metadata": {},
   "outputs": [],
   "source": [
    "path=r'/home/eddie/experiments_results/real_robots/maze_formation'\n",
    "ALL_FILES = glob2.glob(path + \"/*/*/*.bag\")\n",
    "RUN_THRESHOLD = 5100\n",
    "NUMBER_OF_ROBOTS_LIST = [16, 20, 24, 28]\n",
    "INITIAL_ID = 20\n",
    "NUMBER_OF_LEAVES = 16\n",
    "HASH_SIZE_IN_BYTES = 32\n",
    "LEAF_RANGE = range(16,17)\n",
    "\n",
    "FINISHING_TIMES = [[] for i in range(len(NUMBER_OF_ROBOTS_LIST))]\n",
    "COMPLETION_SUCCESS = [[] for i in range(len(NUMBER_OF_ROBOTS_LIST))]\n",
    "COMMUNICATION_GRAPHS = [[] for i in range(len(NUMBER_OF_ROBOTS_LIST))]\n",
    "PRIVACY_COEFFICIENT = [[] for i in range(len(NUMBER_OF_ROBOTS_LIST))]\n",
    "COMMUNICATION_COST = [[] for i in range(len(NUMBER_OF_ROBOTS_LIST))]\n",
    "\n",
    "for x, NUMBER_OF_ROBOTS in enumerate(NUMBER_OF_ROBOTS_LIST):\n",
    "        regex = re.compile(r'R' + str(NUMBER_OF_ROBOTS))    \n",
    "        FILTERED_FILES = filter(regex.search, ALL_FILES)\n",
    "    \n",
    "        for _file in FILTERED_FILES:\n",
    "            DF = ROSBagToPandasDataFrame(_file)\n",
    "            FINISHING_TIMES[x].append(FinishingTimeFirstRobotToCompleteMerkleTree(INITIAL_ID, NUMBER_OF_ROBOTS, RUN_THRESHOLD, DF)[0])\n",
    "            COMMUNICATION_GRAPHS[x].append(ExtractCommunicationGraphFirstRobotToCompleteMerkleTree(INITIAL_ID, NUMBER_OF_ROBOTS, NUMBER_OF_LEAVES, DF))\n",
    "            COMMUNICATION_COST[x].append(CommunicationCost(COMMUNICATION_GRAPHS[x][-1], NUMBER_OF_LEAVES, HASH_SIZE_IN_BYTES)/1024)\n",
    "            PRIVACY_COEFFICIENT[x].append(PrivacyCoefficient(INITIAL_ID, NUMBER_OF_ROBOTS, NUMBER_OF_LEAVES, DF))\n",
    "\n",
    "        COMPLETION_SUCCESS[x] = CompletionSuccess(RUN_THRESHOLD, FINISHING_TIMES)"
   ]
  },
  {
   "cell_type": "markdown",
   "metadata": {},
   "source": [
    "# Write variables to pickle"
   ]
  },
  {
   "cell_type": "code",
   "execution_count": 18,
   "metadata": {},
   "outputs": [],
   "source": [
    "with open('REALROBOT_MAZE_FINISHING_TIMES.pickle', 'wb') as f:\n",
    "    pickle.dump(FINISHING_TIMES, f)\n",
    "    \n",
    "with open('REALROBOT_MAZE_COMMUNICATION_COST.pickle', 'wb') as f:\n",
    "    pickle.dump(COMMUNICATION_COST, f)\n",
    "            \n",
    "with open('REALROBOT_MAZE_PRIVACY_COEEFICIENT.pickle', 'wb') as f:\n",
    "    pickle.dump(PRIVACY_COEFFICIENT, f)    "
   ]
  },
  {
   "cell_type": "markdown",
   "metadata": {},
   "source": [
    "# Read from pickle"
   ]
  },
  {
   "cell_type": "code",
   "execution_count": 27,
   "metadata": {},
   "outputs": [],
   "source": [
    "with open('REALROBOT_MAZE_FINISHING_TIMES.pickle.pickle', 'rb') as f:\n",
    "    FINISHING_TIMES = pickle.load(f)\n",
    "with open('REALROBOT_MAZE_COMMUNICATION_COST.pickle', 'rb') as f:\n",
    "    COMMUNICATION_COST = pickle.load(f)\n",
    "with open('REALROBOT_MAZE_PRIVACY_COEEFICIENT.pickle', 'rb') as f:\n",
    "    PRIVACY_COEFFICIENT= pickle.load(f)    "
   ]
  },
  {
   "cell_type": "markdown",
   "metadata": {},
   "source": [
    "## Data storage"
   ]
  },
  {
   "cell_type": "code",
   "execution_count": 19,
   "metadata": {},
   "outputs": [
    {
     "name": "stdout",
     "output_type": "stream",
     "text": [
      "Stored 'REALROBOT_MAZE_FINISHING_TIMES' (tuple)\n",
      "Stored 'REALROBOT_MAZE_COMMUNICATION_COST' (tuple)\n",
      "Stored 'REALROBOT_MAZE_PRIVACY_COEEFICIENT' (tuple)\n"
     ]
    }
   ],
   "source": [
    "REALROBOT_MAZE_FINISHING_TIMES = FINISHING_TIMES\n",
    "REALROBOT_MAZE_COMMUNICATION_COST = COMMUNICATION_COST\n",
    "REALROBOT_MAZE_PRIVACY_COEEFICIENT = PRIVACY_COEFFICIENT\n",
    "\n",
    "%store REALROBOT_MAZE_FINISHING_TIMES\n",
    "%store REALROBOT_MAZE_COMMUNICATION_COST\n",
    "%store REALROBOT_MAZE_PRIVACY_COEEFICIENT"
   ]
  },
  {
   "cell_type": "code",
   "execution_count": 29,
   "metadata": {},
   "outputs": [
    {
     "name": "stdout",
     "output_type": "stream",
     "text": [
      "CPU times: user 4.17 s, sys: 240 ms, total: 4.41 s\n",
      "Wall time: 4.41 s\n"
     ]
    }
   ],
   "source": [
    "%%time\n",
    "df = pd.read_csv('/home/eddie/experiments_results/real_robots/R16/data/2020-05-22-20-01-41.bag.csv')"
   ]
  },
  {
   "cell_type": "code",
   "execution_count": 12,
   "metadata": {},
   "outputs": [],
   "source": [
    "def msg2json(msg):\n",
    "   ''' Convert a ROS message to JSON format'''\n",
    "   y = yaml.load(msg)\n",
    "   return json.dumps(y,indent=4)"
   ]
  },
  {
   "cell_type": "code",
   "execution_count": 60,
   "metadata": {},
   "outputs": [
    {
     "name": "stderr",
     "output_type": "stream",
     "text": [
      "/home/eddie/anaconda3/envs/scipy/lib/python2.7/site-packages/ipykernel_launcher.py:24: SettingWithCopyWarning: \n",
      "A value is trying to be set on a copy of a slice from a DataFrame.\n",
      "Try using .loc[row_indexer,col_indexer] = value instead\n",
      "\n",
      "See the caveats in the documentation: http://pandas.pydata.org/pandas-docs/stable/indexing.html#indexing-view-versus-copy\n",
      "/home/eddie/anaconda3/envs/scipy/lib/python2.7/site-packages/ipykernel_launcher.py:27: SettingWithCopyWarning: \n",
      "A value is trying to be set on a copy of a slice from a DataFrame.\n",
      "Try using .loc[row_indexer,col_indexer] = value instead\n",
      "\n",
      "See the caveats in the documentation: http://pandas.pydata.org/pandas-docs/stable/indexing.html#indexing-view-versus-copy\n",
      "/home/eddie/anaconda3/envs/scipy/lib/python2.7/site-packages/ipykernel_launcher.py:30: SettingWithCopyWarning: \n",
      "A value is trying to be set on a copy of a slice from a DataFrame.\n",
      "Try using .loc[row_indexer,col_indexer] = value instead\n",
      "\n",
      "See the caveats in the documentation: http://pandas.pydata.org/pandas-docs/stable/indexing.html#indexing-view-versus-copy\n"
     ]
    },
    {
     "ename": "UnicodeDecodeError",
     "evalue": "'utf8' codec can't decode byte 0xa2 in position 140: invalid start byte",
     "output_type": "error",
     "traceback": [
      "\u001b[0;31m---------------------------------------------------------------------------\u001b[0m",
      "\u001b[0;31mUnicodeDecodeError\u001b[0m                        Traceback (most recent call last)",
      "\u001b[0;32m<ipython-input-60-8846b8e8a8c3>\u001b[0m in \u001b[0;36m<module>\u001b[0;34m()\u001b[0m\n\u001b[1;32m     34\u001b[0m \u001b[0;34m\u001b[0m\u001b[0m\n\u001b[1;32m     35\u001b[0m \u001b[0mcompleted_merkle_tree\u001b[0m\u001b[0;34m=\u001b[0m\u001b[0mdf\u001b[0m\u001b[0;34m[\u001b[0m\u001b[0mdf\u001b[0m\u001b[0;34m[\u001b[0m\u001b[0;34m'topic'\u001b[0m\u001b[0;34m]\u001b[0m\u001b[0;34m.\u001b[0m\u001b[0mapply\u001b[0m\u001b[0;34m(\u001b[0m\u001b[0;32mlambda\u001b[0m \u001b[0mx\u001b[0m\u001b[0;34m:\u001b[0m \u001b[0mx\u001b[0m\u001b[0;34m[\u001b[0m\u001b[0;36m10\u001b[0m\u001b[0;34m:\u001b[0m\u001b[0;34m]\u001b[0m \u001b[0;34m==\u001b[0m \u001b[0;34m'comm/init_merkle_tree'\u001b[0m\u001b[0;34m)\u001b[0m\u001b[0;34m]\u001b[0m\u001b[0;34m\u001b[0m\u001b[0m\n\u001b[0;32m---> 36\u001b[0;31m \u001b[0mcompleted_merkle_tree\u001b[0m\u001b[0;34m[\u001b[0m\u001b[0;34m'msg'\u001b[0m\u001b[0;34m]\u001b[0m \u001b[0;34m=\u001b[0m \u001b[0mcompleted_merkle_tree\u001b[0m\u001b[0;34m[\u001b[0m\u001b[0;34m'msg'\u001b[0m\u001b[0;34m]\u001b[0m\u001b[0;34m.\u001b[0m\u001b[0mmap\u001b[0m\u001b[0;34m(\u001b[0m\u001b[0mmerkle_completed_message\u001b[0m\u001b[0;34m)\u001b[0m\u001b[0;34m\u001b[0m\u001b[0m\n\u001b[0m\u001b[1;32m     37\u001b[0m \u001b[0;34m\u001b[0m\u001b[0m\n\u001b[1;32m     38\u001b[0m \u001b[0mneighbor_list\u001b[0m\u001b[0;34m=\u001b[0m\u001b[0mdf\u001b[0m\u001b[0;34m[\u001b[0m\u001b[0mdf\u001b[0m\u001b[0;34m[\u001b[0m\u001b[0;34m'topic'\u001b[0m\u001b[0;34m]\u001b[0m\u001b[0;34m.\u001b[0m\u001b[0mapply\u001b[0m\u001b[0;34m(\u001b[0m\u001b[0;32mlambda\u001b[0m \u001b[0mx\u001b[0m\u001b[0;34m:\u001b[0m \u001b[0mx\u001b[0m\u001b[0;34m[\u001b[0m\u001b[0;36m10\u001b[0m\u001b[0;34m:\u001b[0m\u001b[0;34m]\u001b[0m \u001b[0;34m==\u001b[0m \u001b[0;34m'comm/neighbor_list'\u001b[0m\u001b[0;34m)\u001b[0m\u001b[0;34m]\u001b[0m\u001b[0;34m\u001b[0m\u001b[0m\n",
      "\u001b[0;32m/home/eddie/anaconda3/envs/scipy/lib/python2.7/site-packages/pandas/core/series.pyc\u001b[0m in \u001b[0;36mmap\u001b[0;34m(self, arg, na_action)\u001b[0m\n\u001b[1;32m   2996\u001b[0m         \"\"\"\n\u001b[1;32m   2997\u001b[0m         new_values = super(Series, self)._map_values(\n\u001b[0;32m-> 2998\u001b[0;31m             arg, na_action=na_action)\n\u001b[0m\u001b[1;32m   2999\u001b[0m         return self._constructor(new_values,\n\u001b[1;32m   3000\u001b[0m                                  index=self.index).__finalize__(self)\n",
      "\u001b[0;32m/home/eddie/anaconda3/envs/scipy/lib/python2.7/site-packages/pandas/core/base.pyc\u001b[0m in \u001b[0;36m_map_values\u001b[0;34m(self, mapper, na_action)\u001b[0m\n\u001b[1;32m   1002\u001b[0m \u001b[0;34m\u001b[0m\u001b[0m\n\u001b[1;32m   1003\u001b[0m         \u001b[0;31m# mapper is a function\u001b[0m\u001b[0;34m\u001b[0m\u001b[0;34m\u001b[0m\u001b[0m\n\u001b[0;32m-> 1004\u001b[0;31m         \u001b[0mnew_values\u001b[0m \u001b[0;34m=\u001b[0m \u001b[0mmap_f\u001b[0m\u001b[0;34m(\u001b[0m\u001b[0mvalues\u001b[0m\u001b[0;34m,\u001b[0m \u001b[0mmapper\u001b[0m\u001b[0;34m)\u001b[0m\u001b[0;34m\u001b[0m\u001b[0m\n\u001b[0m\u001b[1;32m   1005\u001b[0m \u001b[0;34m\u001b[0m\u001b[0m\n\u001b[1;32m   1006\u001b[0m         \u001b[0;32mreturn\u001b[0m \u001b[0mnew_values\u001b[0m\u001b[0;34m\u001b[0m\u001b[0m\n",
      "\u001b[0;32mpandas/_libs/src/inference.pyx\u001b[0m in \u001b[0;36mpandas._libs.lib.map_infer\u001b[0;34m()\u001b[0m\n",
      "\u001b[0;32m<ipython-input-60-8846b8e8a8c3>\u001b[0m in \u001b[0;36mmerkle_completed_message\u001b[0;34m(ii)\u001b[0m\n\u001b[1;32m     12\u001b[0m \u001b[0;34m\u001b[0m\u001b[0m\n\u001b[1;32m     13\u001b[0m \u001b[0;32mdef\u001b[0m \u001b[0mmerkle_completed_message\u001b[0m\u001b[0;34m(\u001b[0m\u001b[0mii\u001b[0m\u001b[0;34m)\u001b[0m\u001b[0;34m:\u001b[0m\u001b[0;34m\u001b[0m\u001b[0m\n\u001b[0;32m---> 14\u001b[0;31m     \u001b[0;32mreturn\u001b[0m \u001b[0mjson_message_converter\u001b[0m\u001b[0;34m.\u001b[0m\u001b[0mconvert_json_to_ros_message\u001b[0m\u001b[0;34m(\u001b[0m\u001b[0;34m'argos_ros_epuck/MerkleLeafList'\u001b[0m\u001b[0;34m,\u001b[0m \u001b[0mmsg2json\u001b[0m\u001b[0;34m(\u001b[0m\u001b[0mii\u001b[0m\u001b[0;34m)\u001b[0m\u001b[0;34m)\u001b[0m\u001b[0;34m\u001b[0m\u001b[0m\n\u001b[0m\u001b[1;32m     15\u001b[0m \u001b[0;34m\u001b[0m\u001b[0m\n\u001b[1;32m     16\u001b[0m \u001b[0;32mdef\u001b[0m \u001b[0mneighbor_list_message\u001b[0m\u001b[0;34m(\u001b[0m\u001b[0mii\u001b[0m\u001b[0;34m)\u001b[0m\u001b[0;34m:\u001b[0m\u001b[0;34m\u001b[0m\u001b[0m\n",
      "\u001b[0;32m<ipython-input-12-ad6708e77e7d>\u001b[0m in \u001b[0;36mmsg2json\u001b[0;34m(msg)\u001b[0m\n\u001b[1;32m      2\u001b[0m    \u001b[0;34m''' Convert a ROS message to JSON format'''\u001b[0m\u001b[0;34m\u001b[0m\u001b[0m\n\u001b[1;32m      3\u001b[0m    \u001b[0my\u001b[0m \u001b[0;34m=\u001b[0m \u001b[0myaml\u001b[0m\u001b[0;34m.\u001b[0m\u001b[0mload\u001b[0m\u001b[0;34m(\u001b[0m\u001b[0mmsg\u001b[0m\u001b[0;34m)\u001b[0m\u001b[0;34m\u001b[0m\u001b[0m\n\u001b[0;32m----> 4\u001b[0;31m    \u001b[0;32mreturn\u001b[0m \u001b[0mjson\u001b[0m\u001b[0;34m.\u001b[0m\u001b[0mdumps\u001b[0m\u001b[0;34m(\u001b[0m\u001b[0my\u001b[0m\u001b[0;34m,\u001b[0m\u001b[0mindent\u001b[0m\u001b[0;34m=\u001b[0m\u001b[0;36m4\u001b[0m\u001b[0;34m)\u001b[0m\u001b[0;34m\u001b[0m\u001b[0m\n\u001b[0m",
      "\u001b[0;32m/home/eddie/anaconda3/envs/scipy/lib/python2.7/json/__init__.pyc\u001b[0m in \u001b[0;36mdumps\u001b[0;34m(obj, skipkeys, ensure_ascii, check_circular, allow_nan, cls, indent, separators, encoding, default, sort_keys, **kw)\u001b[0m\n\u001b[1;32m    249\u001b[0m         \u001b[0mcheck_circular\u001b[0m\u001b[0;34m=\u001b[0m\u001b[0mcheck_circular\u001b[0m\u001b[0;34m,\u001b[0m \u001b[0mallow_nan\u001b[0m\u001b[0;34m=\u001b[0m\u001b[0mallow_nan\u001b[0m\u001b[0;34m,\u001b[0m \u001b[0mindent\u001b[0m\u001b[0;34m=\u001b[0m\u001b[0mindent\u001b[0m\u001b[0;34m,\u001b[0m\u001b[0;34m\u001b[0m\u001b[0m\n\u001b[1;32m    250\u001b[0m         \u001b[0mseparators\u001b[0m\u001b[0;34m=\u001b[0m\u001b[0mseparators\u001b[0m\u001b[0;34m,\u001b[0m \u001b[0mencoding\u001b[0m\u001b[0;34m=\u001b[0m\u001b[0mencoding\u001b[0m\u001b[0;34m,\u001b[0m \u001b[0mdefault\u001b[0m\u001b[0;34m=\u001b[0m\u001b[0mdefault\u001b[0m\u001b[0;34m,\u001b[0m\u001b[0;34m\u001b[0m\u001b[0m\n\u001b[0;32m--> 251\u001b[0;31m         sort_keys=sort_keys, **kw).encode(obj)\n\u001b[0m\u001b[1;32m    252\u001b[0m \u001b[0;34m\u001b[0m\u001b[0m\n\u001b[1;32m    253\u001b[0m \u001b[0;34m\u001b[0m\u001b[0m\n",
      "\u001b[0;32m/home/eddie/anaconda3/envs/scipy/lib/python2.7/json/encoder.pyc\u001b[0m in \u001b[0;36mencode\u001b[0;34m(self, o)\u001b[0m\n\u001b[1;32m    207\u001b[0m         \u001b[0mchunks\u001b[0m \u001b[0;34m=\u001b[0m \u001b[0mself\u001b[0m\u001b[0;34m.\u001b[0m\u001b[0miterencode\u001b[0m\u001b[0;34m(\u001b[0m\u001b[0mo\u001b[0m\u001b[0;34m,\u001b[0m \u001b[0m_one_shot\u001b[0m\u001b[0;34m=\u001b[0m\u001b[0mTrue\u001b[0m\u001b[0;34m)\u001b[0m\u001b[0;34m\u001b[0m\u001b[0m\n\u001b[1;32m    208\u001b[0m         \u001b[0;32mif\u001b[0m \u001b[0;32mnot\u001b[0m \u001b[0misinstance\u001b[0m\u001b[0;34m(\u001b[0m\u001b[0mchunks\u001b[0m\u001b[0;34m,\u001b[0m \u001b[0;34m(\u001b[0m\u001b[0mlist\u001b[0m\u001b[0;34m,\u001b[0m \u001b[0mtuple\u001b[0m\u001b[0;34m)\u001b[0m\u001b[0;34m)\u001b[0m\u001b[0;34m:\u001b[0m\u001b[0;34m\u001b[0m\u001b[0m\n\u001b[0;32m--> 209\u001b[0;31m             \u001b[0mchunks\u001b[0m \u001b[0;34m=\u001b[0m \u001b[0mlist\u001b[0m\u001b[0;34m(\u001b[0m\u001b[0mchunks\u001b[0m\u001b[0;34m)\u001b[0m\u001b[0;34m\u001b[0m\u001b[0m\n\u001b[0m\u001b[1;32m    210\u001b[0m         \u001b[0;32mreturn\u001b[0m \u001b[0;34m''\u001b[0m\u001b[0;34m.\u001b[0m\u001b[0mjoin\u001b[0m\u001b[0;34m(\u001b[0m\u001b[0mchunks\u001b[0m\u001b[0;34m)\u001b[0m\u001b[0;34m\u001b[0m\u001b[0m\n\u001b[1;32m    211\u001b[0m \u001b[0;34m\u001b[0m\u001b[0m\n",
      "\u001b[0;32m/home/eddie/anaconda3/envs/scipy/lib/python2.7/json/encoder.pyc\u001b[0m in \u001b[0;36m_iterencode\u001b[0;34m(o, _current_indent_level)\u001b[0m\n\u001b[1;32m    432\u001b[0m                 \u001b[0;32myield\u001b[0m \u001b[0mchunk\u001b[0m\u001b[0;34m\u001b[0m\u001b[0m\n\u001b[1;32m    433\u001b[0m         \u001b[0;32melif\u001b[0m \u001b[0misinstance\u001b[0m\u001b[0;34m(\u001b[0m\u001b[0mo\u001b[0m\u001b[0;34m,\u001b[0m \u001b[0mdict\u001b[0m\u001b[0;34m)\u001b[0m\u001b[0;34m:\u001b[0m\u001b[0;34m\u001b[0m\u001b[0m\n\u001b[0;32m--> 434\u001b[0;31m             \u001b[0;32mfor\u001b[0m \u001b[0mchunk\u001b[0m \u001b[0;32min\u001b[0m \u001b[0m_iterencode_dict\u001b[0m\u001b[0;34m(\u001b[0m\u001b[0mo\u001b[0m\u001b[0;34m,\u001b[0m \u001b[0m_current_indent_level\u001b[0m\u001b[0;34m)\u001b[0m\u001b[0;34m:\u001b[0m\u001b[0;34m\u001b[0m\u001b[0m\n\u001b[0m\u001b[1;32m    435\u001b[0m                 \u001b[0;32myield\u001b[0m \u001b[0mchunk\u001b[0m\u001b[0;34m\u001b[0m\u001b[0m\n\u001b[1;32m    436\u001b[0m         \u001b[0;32melse\u001b[0m\u001b[0;34m:\u001b[0m\u001b[0;34m\u001b[0m\u001b[0m\n",
      "\u001b[0;32m/home/eddie/anaconda3/envs/scipy/lib/python2.7/json/encoder.pyc\u001b[0m in \u001b[0;36m_iterencode_dict\u001b[0;34m(dct, _current_indent_level)\u001b[0m\n\u001b[1;32m    388\u001b[0m             \u001b[0;32myield\u001b[0m \u001b[0m_key_separator\u001b[0m\u001b[0;34m\u001b[0m\u001b[0m\n\u001b[1;32m    389\u001b[0m             \u001b[0;32mif\u001b[0m \u001b[0misinstance\u001b[0m\u001b[0;34m(\u001b[0m\u001b[0mvalue\u001b[0m\u001b[0;34m,\u001b[0m \u001b[0mbasestring\u001b[0m\u001b[0;34m)\u001b[0m\u001b[0;34m:\u001b[0m\u001b[0;34m\u001b[0m\u001b[0m\n\u001b[0;32m--> 390\u001b[0;31m                 \u001b[0;32myield\u001b[0m \u001b[0m_encoder\u001b[0m\u001b[0;34m(\u001b[0m\u001b[0mvalue\u001b[0m\u001b[0;34m)\u001b[0m\u001b[0;34m\u001b[0m\u001b[0m\n\u001b[0m\u001b[1;32m    391\u001b[0m             \u001b[0;32melif\u001b[0m \u001b[0mvalue\u001b[0m \u001b[0;32mis\u001b[0m \u001b[0mNone\u001b[0m\u001b[0;34m:\u001b[0m\u001b[0;34m\u001b[0m\u001b[0m\n\u001b[1;32m    392\u001b[0m                 \u001b[0;32myield\u001b[0m \u001b[0;34m'null'\u001b[0m\u001b[0;34m\u001b[0m\u001b[0m\n",
      "\u001b[0;31mUnicodeDecodeError\u001b[0m: 'utf8' codec can't decode byte 0xa2 in position 140: invalid start byte"
     ]
    }
   ],
   "source": [
    "def position_message(ii):\n",
    "    return json_message_converter.convert_json_to_ros_message('geometry_msgs/Pose', msg2json(ii)) \n",
    "\n",
    "def bool_message(ii):\n",
    "    return json_message_converter.convert_json_to_ros_message('std_msgs/Bool', msg2json(ii)) \n",
    "\n",
    "def float_message(ii):\n",
    "    return json_message_converter.convert_json_to_ros_message('std_msgs/Float32', msg2json(ii)) \n",
    "\n",
    "def string_message(ii):\n",
    "    return json_message_converter.convert_json_to_ros_message('std_msgs/String', msg2json(ii)) \n",
    "\n",
    "def merkle_completed_message(ii):\n",
    "    return json_message_converter.convert_json_to_ros_message('argos_ros_epuck/MerkleLeafList', msg2json(ii)) \n",
    "    \n",
    "def neighbor_list_message(ii):\n",
    "    return json_message_converter.convert_json_to_ros_message('argos_ros_epuck/NeighborList', msg2json(ii)) \n",
    "    \n",
    "def proximity_message(ii):\n",
    "    return json_message_converter.convert_json_to_ros_message('argos_ros_epuck/ProximityList', msg2json(ii)) \n",
    "\n",
    "\n",
    "positions=df[df['topic'].apply(lambda x: x[10:] == 'position')]\n",
    "positions['msg'] = positions['msg'].map(position_message)\n",
    "\n",
    "base_leds=df[df['topic'].apply(lambda x: x[10:] == 'base_leds')]\n",
    "base_leds['msg'] = base_leds['msg'].map(bool_message)\n",
    "\n",
    "battery=df[df['topic'].apply(lambda x: x[10:] == 'battery')]\n",
    "battery['msg'] = battery['msg'].map(float_message)\n",
    "\n",
    "# init_merkle_tree=df[df['topic'].apply(lambda x: x[10:] == 'comm/init_merkle_tree')]\n",
    "# init_merkle_tree['msg'] = init_merkle_tree['msg'].map(string_message)\n",
    "\n",
    "completed_merkle_tree=df[df['topic'].apply(lambda x: x[10:] == 'comm/init_merkle_tree')]\n",
    "completed_merkle_tree['msg'] = completed_merkle_tree['msg'].map(merkle_completed_message)\n",
    "\n",
    "neighbor_list=df[df['topic'].apply(lambda x: x[10:] == 'comm/neighbor_list')]\n",
    "neighbor_list['msg'] = neighbor_list['msg'].map(neighbor_list_message)\n",
    "\n",
    "proximities=df[df['topic'].apply(lambda x: x[10:] == 'proximity')]\n",
    "proximities['msg'] = proximities['msg'].map(proximity_message)\n",
    "\n",
    "#positions.head()\n",
    "\n",
    "# def data(ii):\n",
    "#     return json_message_converter.convert_json_to_ros_message('geometry_msgs/Pose', msg2json(ii)) \n",
    "\n",
    "# def neighbors(ii):\n",
    "#     return json_message_converter.convert_json_to_ros_message('geometry_msgs/Pose', msg2json(ii)) \n",
    "\n",
    "final = pd.concat([positions, base_leds, battery, init_merkle_tree, completed_merkle_tree, neighbor_list, proximities])\n",
    "final.sort_values(by=final.index, inplace=True)\n",
    "\n",
    "# for i in df['msg'].values:\n",
    "#     print(test_function(i))\n",
    "#     msg = msg2json(i)\n",
    "#     test = json_message_converter.convert_json_to_ros_message('geometry_msgs/Pose', msg)\n",
    "#     print test.position\n",
    "#     break"
   ]
  },
  {
   "cell_type": "code",
   "execution_count": 17,
   "metadata": {},
   "outputs": [
    {
     "data": {
      "text/plain": [
       "1210"
      ]
     },
     "execution_count": 17,
     "metadata": {},
     "output_type": "execute_result"
    }
   ],
   "source": [
    "%%time\n",
    "MerkleTreeCompletionTimePerRobot(df, '/epuck_20/comm/merkle_completed')"
   ]
  },
  {
   "cell_type": "code",
   "execution_count": 33,
   "metadata": {},
   "outputs": [
    {
     "ename": "ImportError",
     "evalue": "HDFStore requires PyTables, \"No module named tables\" problem importing",
     "output_type": "error",
     "traceback": [
      "\u001b[0;31m---------------------------------------------------------------------------\u001b[0m",
      "\u001b[0;31mImportError\u001b[0m                               Traceback (most recent call last)",
      "\u001b[0;32m<ipython-input-33-9cd5e776748d>\u001b[0m in \u001b[0;36m<module>\u001b[0;34m()\u001b[0m\n\u001b[0;32m----> 1\u001b[0;31m \u001b[0mget_ipython\u001b[0m\u001b[0;34m(\u001b[0m\u001b[0;34m)\u001b[0m\u001b[0;34m.\u001b[0m\u001b[0mrun_cell_magic\u001b[0m\u001b[0;34m(\u001b[0m\u001b[0;34mu'time'\u001b[0m\u001b[0;34m,\u001b[0m \u001b[0;34mu''\u001b[0m\u001b[0;34m,\u001b[0m \u001b[0;34mu\"\\nDF = ROSBagToPandasDataFrame('/home/eddie/2020-05-22-20-01-41.bag', convert_to_hdf5=True)\"\u001b[0m\u001b[0;34m)\u001b[0m\u001b[0;34m\u001b[0m\u001b[0m\n\u001b[0m",
      "\u001b[0;32m/home/eddie/anaconda3/envs/scipy/lib/python2.7/site-packages/IPython/core/interactiveshell.pyc\u001b[0m in \u001b[0;36mrun_cell_magic\u001b[0;34m(self, magic_name, line, cell)\u001b[0m\n\u001b[1;32m   2115\u001b[0m             \u001b[0mmagic_arg_s\u001b[0m \u001b[0;34m=\u001b[0m \u001b[0mself\u001b[0m\u001b[0;34m.\u001b[0m\u001b[0mvar_expand\u001b[0m\u001b[0;34m(\u001b[0m\u001b[0mline\u001b[0m\u001b[0;34m,\u001b[0m \u001b[0mstack_depth\u001b[0m\u001b[0;34m)\u001b[0m\u001b[0;34m\u001b[0m\u001b[0m\n\u001b[1;32m   2116\u001b[0m             \u001b[0;32mwith\u001b[0m \u001b[0mself\u001b[0m\u001b[0;34m.\u001b[0m\u001b[0mbuiltin_trap\u001b[0m\u001b[0;34m:\u001b[0m\u001b[0;34m\u001b[0m\u001b[0m\n\u001b[0;32m-> 2117\u001b[0;31m                 \u001b[0mresult\u001b[0m \u001b[0;34m=\u001b[0m \u001b[0mfn\u001b[0m\u001b[0;34m(\u001b[0m\u001b[0mmagic_arg_s\u001b[0m\u001b[0;34m,\u001b[0m \u001b[0mcell\u001b[0m\u001b[0;34m)\u001b[0m\u001b[0;34m\u001b[0m\u001b[0m\n\u001b[0m\u001b[1;32m   2118\u001b[0m             \u001b[0;32mreturn\u001b[0m \u001b[0mresult\u001b[0m\u001b[0;34m\u001b[0m\u001b[0m\n\u001b[1;32m   2119\u001b[0m \u001b[0;34m\u001b[0m\u001b[0m\n",
      "\u001b[0;32m<decorator-gen-60>\u001b[0m in \u001b[0;36mtime\u001b[0;34m(self, line, cell, local_ns)\u001b[0m\n",
      "\u001b[0;32m/home/eddie/anaconda3/envs/scipy/lib/python2.7/site-packages/IPython/core/magic.pyc\u001b[0m in \u001b[0;36m<lambda>\u001b[0;34m(f, *a, **k)\u001b[0m\n\u001b[1;32m    186\u001b[0m     \u001b[0;31m# but it's overkill for just that one bit of state.\u001b[0m\u001b[0;34m\u001b[0m\u001b[0;34m\u001b[0m\u001b[0m\n\u001b[1;32m    187\u001b[0m     \u001b[0;32mdef\u001b[0m \u001b[0mmagic_deco\u001b[0m\u001b[0;34m(\u001b[0m\u001b[0marg\u001b[0m\u001b[0;34m)\u001b[0m\u001b[0;34m:\u001b[0m\u001b[0;34m\u001b[0m\u001b[0m\n\u001b[0;32m--> 188\u001b[0;31m         \u001b[0mcall\u001b[0m \u001b[0;34m=\u001b[0m \u001b[0;32mlambda\u001b[0m \u001b[0mf\u001b[0m\u001b[0;34m,\u001b[0m \u001b[0;34m*\u001b[0m\u001b[0ma\u001b[0m\u001b[0;34m,\u001b[0m \u001b[0;34m**\u001b[0m\u001b[0mk\u001b[0m\u001b[0;34m:\u001b[0m \u001b[0mf\u001b[0m\u001b[0;34m(\u001b[0m\u001b[0;34m*\u001b[0m\u001b[0ma\u001b[0m\u001b[0;34m,\u001b[0m \u001b[0;34m**\u001b[0m\u001b[0mk\u001b[0m\u001b[0;34m)\u001b[0m\u001b[0;34m\u001b[0m\u001b[0m\n\u001b[0m\u001b[1;32m    189\u001b[0m \u001b[0;34m\u001b[0m\u001b[0m\n\u001b[1;32m    190\u001b[0m         \u001b[0;32mif\u001b[0m \u001b[0mcallable\u001b[0m\u001b[0;34m(\u001b[0m\u001b[0marg\u001b[0m\u001b[0;34m)\u001b[0m\u001b[0;34m:\u001b[0m\u001b[0;34m\u001b[0m\u001b[0m\n",
      "\u001b[0;32m/home/eddie/anaconda3/envs/scipy/lib/python2.7/site-packages/IPython/core/magics/execution.pyc\u001b[0m in \u001b[0;36mtime\u001b[0;34m(self, line, cell, local_ns)\u001b[0m\n\u001b[1;32m   1191\u001b[0m         \u001b[0;32melse\u001b[0m\u001b[0;34m:\u001b[0m\u001b[0;34m\u001b[0m\u001b[0m\n\u001b[1;32m   1192\u001b[0m             \u001b[0mst\u001b[0m \u001b[0;34m=\u001b[0m \u001b[0mclock2\u001b[0m\u001b[0;34m(\u001b[0m\u001b[0;34m)\u001b[0m\u001b[0;34m\u001b[0m\u001b[0m\n\u001b[0;32m-> 1193\u001b[0;31m             \u001b[0;32mexec\u001b[0m\u001b[0;34m(\u001b[0m\u001b[0mcode\u001b[0m\u001b[0;34m,\u001b[0m \u001b[0mglob\u001b[0m\u001b[0;34m,\u001b[0m \u001b[0mlocal_ns\u001b[0m\u001b[0;34m)\u001b[0m\u001b[0;34m\u001b[0m\u001b[0m\n\u001b[0m\u001b[1;32m   1194\u001b[0m             \u001b[0mend\u001b[0m \u001b[0;34m=\u001b[0m \u001b[0mclock2\u001b[0m\u001b[0;34m(\u001b[0m\u001b[0;34m)\u001b[0m\u001b[0;34m\u001b[0m\u001b[0m\n\u001b[1;32m   1195\u001b[0m             \u001b[0mout\u001b[0m \u001b[0;34m=\u001b[0m \u001b[0mNone\u001b[0m\u001b[0;34m\u001b[0m\u001b[0m\n",
      "\u001b[0;32m<timed exec>\u001b[0m in \u001b[0;36m<module>\u001b[0;34m()\u001b[0m\n",
      "\u001b[0;32m<ipython-input-32-68b27bdacd6f>\u001b[0m in \u001b[0;36mROSBagToPandasDataFrame\u001b[0;34m(rosbag_filename, convert_to_csv, convert_to_pickle, convert_to_msgpack, convert_to_hdf5)\u001b[0m\n\u001b[1;32m     33\u001b[0m \u001b[0;34m\u001b[0m\u001b[0m\n\u001b[1;32m     34\u001b[0m     \u001b[0;32mif\u001b[0m \u001b[0;34m(\u001b[0m\u001b[0mconvert_to_hdf5\u001b[0m\u001b[0;34m)\u001b[0m\u001b[0;34m:\u001b[0m\u001b[0;34m\u001b[0m\u001b[0m\n\u001b[0;32m---> 35\u001b[0;31m         \u001b[0mdf\u001b[0m\u001b[0;34m.\u001b[0m\u001b[0mto_hdf\u001b[0m\u001b[0;34m(\u001b[0m\u001b[0mrosbag_filename\u001b[0m \u001b[0;34m+\u001b[0m\u001b[0;34m'.hdf5'\u001b[0m\u001b[0;34m,\u001b[0m \u001b[0mkey\u001b[0m\u001b[0;34m=\u001b[0m\u001b[0;34m'df'\u001b[0m\u001b[0;34m,\u001b[0m \u001b[0mmode\u001b[0m\u001b[0;34m=\u001b[0m\u001b[0;34m'w'\u001b[0m\u001b[0;34m)\u001b[0m\u001b[0;34m\u001b[0m\u001b[0m\n\u001b[0m\u001b[1;32m     36\u001b[0m \u001b[0;34m\u001b[0m\u001b[0m\n\u001b[1;32m     37\u001b[0m     \u001b[0;31m# return dataframe\u001b[0m\u001b[0;34m\u001b[0m\u001b[0;34m\u001b[0m\u001b[0m\n",
      "\u001b[0;32m/home/eddie/anaconda3/envs/scipy/lib/python2.7/site-packages/pandas/core/generic.pyc\u001b[0m in \u001b[0;36mto_hdf\u001b[0;34m(self, path_or_buf, key, **kwargs)\u001b[0m\n\u001b[1;32m   1994\u001b[0m         \"\"\"\n\u001b[1;32m   1995\u001b[0m         \u001b[0;32mfrom\u001b[0m \u001b[0mpandas\u001b[0m\u001b[0;34m.\u001b[0m\u001b[0mio\u001b[0m \u001b[0;32mimport\u001b[0m \u001b[0mpytables\u001b[0m\u001b[0;34m\u001b[0m\u001b[0m\n\u001b[0;32m-> 1996\u001b[0;31m         \u001b[0;32mreturn\u001b[0m \u001b[0mpytables\u001b[0m\u001b[0;34m.\u001b[0m\u001b[0mto_hdf\u001b[0m\u001b[0;34m(\u001b[0m\u001b[0mpath_or_buf\u001b[0m\u001b[0;34m,\u001b[0m \u001b[0mkey\u001b[0m\u001b[0;34m,\u001b[0m \u001b[0mself\u001b[0m\u001b[0;34m,\u001b[0m \u001b[0;34m**\u001b[0m\u001b[0mkwargs\u001b[0m\u001b[0;34m)\u001b[0m\u001b[0;34m\u001b[0m\u001b[0m\n\u001b[0m\u001b[1;32m   1997\u001b[0m \u001b[0;34m\u001b[0m\u001b[0m\n\u001b[1;32m   1998\u001b[0m     \u001b[0;32mdef\u001b[0m \u001b[0mto_msgpack\u001b[0m\u001b[0;34m(\u001b[0m\u001b[0mself\u001b[0m\u001b[0;34m,\u001b[0m \u001b[0mpath_or_buf\u001b[0m\u001b[0;34m=\u001b[0m\u001b[0mNone\u001b[0m\u001b[0;34m,\u001b[0m \u001b[0mencoding\u001b[0m\u001b[0;34m=\u001b[0m\u001b[0;34m'utf-8'\u001b[0m\u001b[0;34m,\u001b[0m \u001b[0;34m**\u001b[0m\u001b[0mkwargs\u001b[0m\u001b[0;34m)\u001b[0m\u001b[0;34m:\u001b[0m\u001b[0;34m\u001b[0m\u001b[0m\n",
      "\u001b[0;32m/home/eddie/anaconda3/envs/scipy/lib/python2.7/site-packages/pandas/io/pytables.pyc\u001b[0m in \u001b[0;36mto_hdf\u001b[0;34m(path_or_buf, key, value, mode, complevel, complib, append, **kwargs)\u001b[0m\n\u001b[1;32m    276\u001b[0m     \u001b[0;32mif\u001b[0m \u001b[0misinstance\u001b[0m\u001b[0;34m(\u001b[0m\u001b[0mpath_or_buf\u001b[0m\u001b[0;34m,\u001b[0m \u001b[0mstring_types\u001b[0m\u001b[0;34m)\u001b[0m\u001b[0;34m:\u001b[0m\u001b[0;34m\u001b[0m\u001b[0m\n\u001b[1;32m    277\u001b[0m         with HDFStore(path_or_buf, mode=mode, complevel=complevel,\n\u001b[0;32m--> 278\u001b[0;31m                       complib=complib) as store:\n\u001b[0m\u001b[1;32m    279\u001b[0m             \u001b[0mf\u001b[0m\u001b[0;34m(\u001b[0m\u001b[0mstore\u001b[0m\u001b[0;34m)\u001b[0m\u001b[0;34m\u001b[0m\u001b[0m\n\u001b[1;32m    280\u001b[0m     \u001b[0;32melse\u001b[0m\u001b[0;34m:\u001b[0m\u001b[0;34m\u001b[0m\u001b[0m\n",
      "\u001b[0;32m/home/eddie/anaconda3/envs/scipy/lib/python2.7/site-packages/pandas/io/pytables.pyc\u001b[0m in \u001b[0;36m__init__\u001b[0;34m(self, path, mode, complevel, complib, fletcher32, **kwargs)\u001b[0m\n\u001b[1;32m    470\u001b[0m         \u001b[0;32mexcept\u001b[0m \u001b[0mImportError\u001b[0m \u001b[0;32mas\u001b[0m \u001b[0mex\u001b[0m\u001b[0;34m:\u001b[0m  \u001b[0;31m# pragma: no cover\u001b[0m\u001b[0;34m\u001b[0m\u001b[0m\n\u001b[1;32m    471\u001b[0m             raise ImportError('HDFStore requires PyTables, \"{ex}\" problem '\n\u001b[0;32m--> 472\u001b[0;31m                               'importing'.format(ex=str(ex)))\n\u001b[0m\u001b[1;32m    473\u001b[0m \u001b[0;34m\u001b[0m\u001b[0m\n\u001b[1;32m    474\u001b[0m         \u001b[0;32mif\u001b[0m \u001b[0mcomplib\u001b[0m \u001b[0;32mis\u001b[0m \u001b[0;32mnot\u001b[0m \u001b[0mNone\u001b[0m \u001b[0;32mand\u001b[0m \u001b[0mcomplib\u001b[0m \u001b[0;32mnot\u001b[0m \u001b[0;32min\u001b[0m \u001b[0mtables\u001b[0m\u001b[0;34m.\u001b[0m\u001b[0mfilters\u001b[0m\u001b[0;34m.\u001b[0m\u001b[0mall_complibs\u001b[0m\u001b[0;34m:\u001b[0m\u001b[0;34m\u001b[0m\u001b[0m\n",
      "\u001b[0;31mImportError\u001b[0m: HDFStore requires PyTables, \"No module named tables\" problem importing"
     ]
    }
   ],
   "source": [
    "%%time\n",
    "\n",
    "DF = ROSBagToPandasDataFrame('/home/eddie/2020-05-22-20-01-41.bag', convert_to_hdf5=True)"
   ]
  },
  {
   "cell_type": "code",
   "execution_count": 66,
   "metadata": {},
   "outputs": [
    {
     "data": {
      "text/plain": [
       "<networkx.classes.digraph.DiGraph at 0x7efe6c6b5410>"
      ]
     },
     "execution_count": 66,
     "metadata": {},
     "output_type": "execute_result"
    }
   ],
   "source": []
  },
  {
   "cell_type": "code",
   "execution_count": null,
   "metadata": {},
   "outputs": [],
   "source": [
    "952 819 1186"
   ]
  },
  {
   "cell_type": "code",
   "execution_count": 28,
   "metadata": {},
   "outputs": [
    {
     "name": "stdout",
     "output_type": "stream",
     "text": [
      "CPU times: user 73.6 ms, sys: 3 µs, total: 73.6 ms\n",
      "Wall time: 72.2 ms\n"
     ]
    },
    {
     "data": {
      "text/plain": [
       "1210"
      ]
     },
     "execution_count": 28,
     "metadata": {},
     "output_type": "execute_result"
    }
   ],
   "source": [
    "%%time\n",
    "MerkleTreeCompletionTimePerRobot(DF, '/epuck_20/comm/merkle_completed')"
   ]
  },
  {
   "cell_type": "code",
   "execution_count": 54,
   "metadata": {},
   "outputs": [
    {
     "ename": "ValueError",
     "evalue": "min() arg is an empty sequence",
     "output_type": "error",
     "traceback": [
      "\u001b[0;31m---------------------------------------------------------------------------\u001b[0m",
      "\u001b[0;31mValueError\u001b[0m                                Traceback (most recent call last)",
      "\u001b[0;32m<ipython-input-54-76524e95dcef>\u001b[0m in \u001b[0;36m<module>\u001b[0;34m()\u001b[0m\n\u001b[0;32m----> 1\u001b[0;31m \u001b[0mFinishingTimeFirstRobotToCompleteMerkleTree\u001b[0m\u001b[0;34m(\u001b[0m\u001b[0;36m20\u001b[0m\u001b[0;34m,\u001b[0m \u001b[0;36m16\u001b[0m\u001b[0;34m,\u001b[0m \u001b[0;36m5100\u001b[0m\u001b[0;34m,\u001b[0m \u001b[0mdf\u001b[0m\u001b[0;34m)\u001b[0m\u001b[0;34m\u001b[0m\u001b[0m\n\u001b[0m",
      "\u001b[0;32m<ipython-input-46-fea9ce4866e0>\u001b[0m in \u001b[0;36mFinishingTimeFirstRobotToCompleteMerkleTree\u001b[0;34m(INITIAL_ID, NUMBER_OF_ROBOTS, THRESHOLD, DF)\u001b[0m\n\u001b[1;32m     11\u001b[0m             \u001b[0;32mpass\u001b[0m\u001b[0;34m\u001b[0m\u001b[0m\n\u001b[1;32m     12\u001b[0m \u001b[0;34m\u001b[0m\u001b[0m\n\u001b[0;32m---> 13\u001b[0;31m     \u001b[0;32mreturn\u001b[0m \u001b[0mmin\u001b[0m\u001b[0;34m(\u001b[0m\u001b[0mi\u001b[0m \u001b[0;32mfor\u001b[0m \u001b[0mi\u001b[0m \u001b[0;32min\u001b[0m \u001b[0mrobots_finishing_list\u001b[0m \u001b[0;32mif\u001b[0m \u001b[0mi\u001b[0m \u001b[0;34m>\u001b[0m \u001b[0;36m0\u001b[0m\u001b[0;34m)\u001b[0m\u001b[0;34m\u001b[0m\u001b[0m\n\u001b[0m",
      "\u001b[0;31mValueError\u001b[0m: min() arg is an empty sequence"
     ]
    }
   ],
   "source": [
    "FinishingTimeFirstRobotToCompleteMerkleTree(20, 16, 5100, df)"
   ]
  },
  {
   "cell_type": "code",
   "execution_count": null,
   "metadata": {},
   "outputs": [],
   "source": [
    "REALROBOT_FORAGING_COMMUNICATION_COST = COMMUNICATION_COST\n"
   ]
  }
 ],
 "metadata": {
  "kernelspec": {
   "display_name": "Python (scipy)",
   "language": "python",
   "name": "scipy"
  },
  "language_info": {
   "codemirror_mode": {
    "name": "ipython",
    "version": 2
   },
   "file_extension": ".py",
   "mimetype": "text/x-python",
   "name": "python",
   "nbconvert_exporter": "python",
   "pygments_lexer": "ipython2",
   "version": "2.7.15"
  }
 },
 "nbformat": 4,
 "nbformat_minor": 2
}
