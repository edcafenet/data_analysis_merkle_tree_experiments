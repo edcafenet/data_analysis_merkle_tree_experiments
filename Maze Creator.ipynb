{
 "cells": [
  {
   "cell_type": "code",
   "execution_count": 2,
   "metadata": {},
   "outputs": [
    {
     "name": "stdout",
     "output_type": "stream",
     "text": [
      "[!][!][!][!][!]\n",
      " *          [!]\n",
      "[!]   [!]   [!]\n",
      "[!]   [!]    @ \n",
      "[!][!][!][!][!]\n",
      "{0: {0: 1, 1: 1, 2: 1, 3: 1, 4: 1}, 1: {0: ' @ ', 1: 0, 2: 1, 3: 0, 4: 1}, 2: {0: 1, 1: 0, 2: 1, 3: 0, 4: 1}, 3: {0: 1, 1: 0, 2: 0, 3: 0, 4: ' * '}, 4: {0: 1, 1: 1, 2: 1, 3: 1, 4: 1}}\n",
      "16\n"
     ]
    }
   ],
   "source": [
    "import sys\n",
    "import random\n",
    "import time\n",
    "from tkinter import *\n",
    "\n",
    "class Maze(object):\n",
    "    def __init__(self, width=35, height=21, recursion_limit=2000):\n",
    "        self.width = width\n",
    "        self.height= height\n",
    "        self.maze = dict()\n",
    "        sys.setrecursionlimit(recursion_limit)\n",
    " \n",
    "    def init_maze(self):\n",
    "        for x in range(0, self.width):\n",
    "            self.maze[x] = dict()\n",
    "            for y in range(0, self.height):\n",
    "                self.maze[x][y] = 1\n",
    "\n",
    "    def carve_maze(self, x, y):\n",
    "        dir = random.randint(0, 3)\n",
    "        count = 0\n",
    "        while count < 4:\n",
    "            dx = 0\n",
    "            dy = 0\n",
    "            if dir == 0:\n",
    "               dx = 1\n",
    "            elif dir == 1:\n",
    "               dy = 1\n",
    "            elif dir == 2:\n",
    "               dx = -1\n",
    "            else:\n",
    "               dy = -1\n",
    "            x1 = x + dx\n",
    "            y1 = y + dy\n",
    "            x2 = x1 + dx\n",
    "            y2 = y1 + dy\n",
    "            if x2 > 0 and x2 < self.width and y2 > 0 and y2 < self.height:\n",
    "               if self.maze[x1][y1] == 1 and self.maze[x2][y2] == 1:\n",
    "                  self.maze[x1][y1] = 0\n",
    "                  self.maze[x2][y2] = 0\n",
    "                  self.carve_maze(x2, y2)\n",
    "            count = count + 1\n",
    "            dir = (dir + 1) % 4\n",
    "\n",
    "    def generate_maze(self):\n",
    "        random.seed()\n",
    "        self.maze[1][1] = 0\n",
    "        self.carve_maze(1, 1)\n",
    "        self.maze[1][0] = 0\n",
    "        self.maze[self.width - 2][self.height - 1] = 0\n",
    "    \n",
    "    def text_maze(self):\n",
    "        self.init_maze()\n",
    "        self.generate_maze()\n",
    "        counter = 0\n",
    "        self.maze[1][0] = ' @ '\n",
    "        self.maze[self.height-2][self.width-1] = ' * '\n",
    "\n",
    "        for x in range(self.width-1, -1, -1):\n",
    "            for y in range(self.height-1, -1, -1):\n",
    "                if self.maze[x][y] == 0:\n",
    "                    sys.stdout.write(\"   \")\n",
    "                elif self.maze[x][y] == 1:\n",
    "                    counter+=1\n",
    "                    sys.stdout.write(\"[!]\")\n",
    "                else:\n",
    "                    sys.stdout.write(self.maze[x][y])\n",
    "\n",
    "            sys.stdout.write(\"\\n\")\n",
    "\n",
    "        print self.maze\n",
    "        print counter\n",
    "        \n",
    "if __name__ == '__main__':\n",
    "    game = Maze(5,5)\n",
    "    game.text_maze()"
   ]
  },
  {
   "cell_type": "code",
   "execution_count": null,
   "metadata": {
    "collapsed": true
   },
   "outputs": [],
   "source": []
  },
  {
   "cell_type": "code",
   "execution_count": null,
   "metadata": {
    "collapsed": true
   },
   "outputs": [],
   "source": []
  }
 ],
 "metadata": {
  "kernelspec": {
   "display_name": "Python (scipy)",
   "language": "python",
   "name": "scipy"
  },
  "language_info": {
   "codemirror_mode": {
    "name": "ipython",
    "version": 2
   },
   "file_extension": ".py",
   "mimetype": "text/x-python",
   "name": "python",
   "nbconvert_exporter": "python",
   "pygments_lexer": "ipython2",
   "version": "2.7.15"
  }
 },
 "nbformat": 4,
 "nbformat_minor": 2
}
