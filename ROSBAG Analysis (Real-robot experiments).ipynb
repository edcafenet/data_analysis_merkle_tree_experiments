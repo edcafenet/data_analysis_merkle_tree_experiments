{
 "cells": [
  {
   "cell_type": "code",
   "execution_count": 1,
   "metadata": {},
   "outputs": [],
   "source": [
    "import rosbag\n",
    "import pandas as pd\n",
    "import numpy as np\n",
    "import matplotlib.pyplot as plt\n",
    "import glob2, re\n",
    "from collections import Counter\n",
    "import networkx as nx\n",
    "import community as comm\n",
    "%matplotlib inline"
   ]
  },
  {
   "cell_type": "markdown",
   "metadata": {},
   "source": [
    "# Data filtering and conversion"
   ]
  },
  {
   "cell_type": "code",
   "execution_count": 2,
   "metadata": {},
   "outputs": [],
   "source": [
    "def TopicFilter(bag):\n",
    "\n",
    "    topics = bag.get_type_and_topic_info().topics.keys()\n",
    "    topics_excluing_list = []\n",
    "    topics_valid_list = []\n",
    "\n",
    "    for id in xrange(20,40):\n",
    "        topic_goal = \"/epuck_\" + str(id) + \"/diff_drive_go_to_goal\" + \"/goal\"\n",
    "        topic_goal_achieved = \"/epuck_\" + str(id) + \"/diff_drive_go_to_goal\" + \"/goal_achieved\"\n",
    "        topic_distance_to_goal = \"/epuck_\" + str(id) + \"/diff_drive_go_to_goal\" + \"/distance_to_goal\"\n",
    "        topic_goto = \"/epuck_\" + str(id) + \"/diff_drive_go_to_goal\" + \"/go_to\"\n",
    "        topic_results = \"/epuck_\" + str(id) + \"/diff_drive_go_to_goal\" + \"/result\"\n",
    "        topic_cancel = \"/epuck_\" + str(id) + \"/diff_drive_go_to_goal\" + \"/cancel\"\n",
    "        topic_status = \"/epuck_\" + str(id) + \"/diff_drive_go_to_goal\" + \"/status\"\n",
    "        topic_cmd_vel = \"/epuck_\" + str(id) + \"/cmd_vel\"\n",
    "\n",
    "        topics_excluing_list.extend([topic_goal, topic_distance_to_goal, topic_goto, topic_goal_achieved, \n",
    "                                topic_results, topic_cancel, topic_status, topic_cmd_vel])\n",
    "\n",
    "        topics_excluing_list.extend(['/rosout', '/rosout_agg'])\n",
    "\n",
    "    for topic in topics:\n",
    "        if topic not in topics_excluing_list:\n",
    "            topics_valid_list.append(topic)\n",
    "            \n",
    "    return topics_valid_list"
   ]
  },
  {
   "cell_type": "code",
   "execution_count": 3,
   "metadata": {},
   "outputs": [],
   "source": [
    "def ROSBagToPandasDataFrame(rosbag_filename):\n",
    "\n",
    "    bag = rosbag.Bag(rosbag_filename)\n",
    "    topics_valid_list = TopicFilter(bag)\n",
    "    msgs = []\n",
    "\n",
    "    for topic, msg, t in bag.read_messages(topics=topics_valid_list):\n",
    "        msgs.append({'topic': topic, 'msg': msg, 't': t})\n",
    "    \n",
    "    bag.close()\n",
    "    return pd.DataFrame(msgs)"
   ]
  },
  {
   "cell_type": "markdown",
   "metadata": {},
   "source": [
    "#  Finishing Time and Success Rate Functions"
   ]
  },
  {
   "cell_type": "code",
   "execution_count": 4,
   "metadata": {},
   "outputs": [],
   "source": [
    "def MerkleTreeCompletionTimePerRobot(df, robot_topic):\n",
    "    msgs_topic = df.loc[df['topic'] == robot_topic]['msg']\n",
    "    msg_begin = msgs_topic.iloc[0]\n",
    "    msg_end = None\n",
    "    \n",
    "    for msg in msgs_topic:        \n",
    "        if(msg.leafs[-1].completed == True):\n",
    "            msg_end = msg\n",
    "            break\n",
    "            \n",
    "    return msg_end.header.stamp.secs - msg_begin.header.stamp.secs"
   ]
  },
  {
   "cell_type": "code",
   "execution_count": 5,
   "metadata": {},
   "outputs": [],
   "source": [
    "def FinishingTimeOneRun(INITIAL_ID, NUMBER_OF_ROBOTS, THRESHOLD, DF):\n",
    "    robots_finishing_list = []\n",
    "\n",
    "    for id in xrange(INITIAL_ID, INITIAL_ID+NUMBER_OF_ROBOTS):\n",
    "        topic_name = '/epuck_' + str(id) + '/comm/merkle_completed'\n",
    "        try:\n",
    "            robot_finishing_time = MerkleTreeCompletionTimePerRobot(DF, topic_name)\n",
    "            if (robot_finishing_time < THRESHOLD):\n",
    "                robots_finishing_list.append(robot_finishing_time)\n",
    "        except:\n",
    "            pass\n",
    "           \n",
    "    return max(robots_finishing_list)"
   ]
  },
  {
   "cell_type": "code",
   "execution_count": 6,
   "metadata": {},
   "outputs": [],
   "source": [
    "def CompletionSuccess(THRESHOLD, FINISHING_TIMES):\n",
    "\n",
    "    filtered_times = []\n",
    "\n",
    "    for t in range(0,THRESHOLD):\n",
    "        filtered_times.append(len([i for i in FINISHING_TIMES if i <= t]))\n",
    "  \n",
    "    return np.true_divide(np.array(filtered_times), len(FINISHING_TIMES))"
   ]
  },
  {
   "cell_type": "markdown",
   "metadata": {},
   "source": [
    "# Communication Cost and Privacy Functions"
   ]
  },
  {
   "cell_type": "code",
   "execution_count": 7,
   "metadata": {},
   "outputs": [],
   "source": [
    "# function to get unique values \n",
    "def unique(list1): \n",
    "    x = np.array(list1)\n",
    "    return np.unique(x)"
   ]
  },
  {
   "cell_type": "code",
   "execution_count": 8,
   "metadata": {},
   "outputs": [],
   "source": [
    "# get_size function\n",
    "def get_size(obj, seen=None):\n",
    "    \"\"\"Recursively finds size of objects\"\"\"\n",
    "    size = sys.getsizeof(obj)\n",
    "    if seen is None:\n",
    "        seen = set()\n",
    "    obj_id = id(obj)\n",
    "    if obj_id in seen:\n",
    "        return 0\n",
    "    # Important mark as seen *before* entering recursion to gracefully handle self-referential objects\n",
    "    seen.add(obj_id)\n",
    "    if isinstance(obj, dict):\n",
    "        size += sum([get_size(v, seen) for v in obj.values()])\n",
    "        size += sum([get_size(k, seen) for k in obj.keys()])\n",
    "    elif hasattr(obj, '__dict__'):\n",
    "        size += get_size(obj.__dict__, seen)\n",
    "    elif hasattr(obj, '__iter__') and not isinstance(obj, (str, bytes, bytearray)):\n",
    "        size += sum([get_size(i, seen) for i in obj])\n",
    "    return size"
   ]
  },
  {
   "cell_type": "code",
   "execution_count": 9,
   "metadata": {},
   "outputs": [],
   "source": [
    "def sdi(data):\n",
    "    from math import log as ln\n",
    "    \n",
    "    def p(n, N):\n",
    "        \"\"\" Relative abundance \"\"\"\n",
    "        if n is  0:\n",
    "            return 0\n",
    "        else:\n",
    "            return (float(n)/N) * ln(float(n)/N)\n",
    "            \n",
    "    N = sum(data)\n",
    "    return -sum(p(n, N) for n in data if n is not 0)"
   ]
  },
  {
   "cell_type": "code",
   "execution_count": 10,
   "metadata": {},
   "outputs": [],
   "source": [
    "def ExtractCommunicationGraph(INITIAL_ID, NUMBER_OF_ROBOTS, NUMBER_OF_LEAVES, DF):\n",
    "    G = nx.DiGraph()\n",
    "    for robotid in xrange(INITIAL_ID, INITIAL_ID+NUMBER_OF_ROBOTS):\n",
    "        G.add_node(robotid)\n",
    "        msgs_topic = DF.loc[DF['topic'] == '/epuck_' + str(robotid) + '/comm/merkle_completed']['msg']\n",
    "        from_robots = []\n",
    "        for leaf in msgs_topic.iloc[-1].leafs:\n",
    "            if leaf.received == True:\n",
    "                from_robots.append(leaf.from_robot)         \n",
    "        for other_robot in unique(from_robots):\n",
    "            G.add_edge(other_robot, robotid, weight=Counter(from_robots)[other_robot])\n",
    "    return G"
   ]
  },
  {
   "cell_type": "code",
   "execution_count": 11,
   "metadata": {},
   "outputs": [],
   "source": [
    "def CommunicationCost(G, NUMBER_OF_LEAVES, HASH_SIZE_IN_BYTES):  \n",
    "    number_of_iterations = sum(nx.get_edge_attributes(G,'weight').values())    \n",
    "    if (number_of_iterations!=0):\n",
    "        return sum(nx.get_edge_attributes(G,'weight').values()) * (np.log2(NUMBER_OF_LEAVES) + 2) * HASH_SIZE_IN_BYTES"
   ]
  },
  {
   "cell_type": "code",
   "execution_count": 16,
   "metadata": {},
   "outputs": [],
   "source": [
    "def PrivacyCoefficient(INITIAL_ID, NUMBER_OF_ROBOTS, NUMBER_OF_LEAVES, DF):\n",
    "    by_all_robots_in_sim = []\n",
    "\n",
    "    for robotid in xrange(INITIAL_ID, INITIAL_ID+NUMBER_OF_ROBOTS):\n",
    "        msgs_topic = DF.loc[DF['topic'] == '/epuck_' + str(robotid) + '/comm/merkle_completed']['msg']\n",
    "        by_this_robot = 0\n",
    "        for leaf in msgs_topic.iloc[-1].leafs:\n",
    "            if leaf.received == False and leaf.hash != \"\":\n",
    "                by_this_robot =+ 1\n",
    "        \n",
    "        by_all_robots_in_sim.append(by_this_robot)\n",
    "\n",
    "        if sum(by_all_robots_in_sim)==NUMBER_OF_LEAVES:\n",
    "            return sdi(by_all_robots_in_sim)/np.log(NUMBER_OF_LEAVES)"
   ]
  },
  {
   "cell_type": "markdown",
   "metadata": {},
   "source": [
    "## Main loop "
   ]
  },
  {
   "cell_type": "code",
   "execution_count": 17,
   "metadata": {},
   "outputs": [],
   "source": [
    "path=r'/Users/eddie/experiments_results/5x5-20-robots/data/' # use your path\n",
    "ALL_FILES = glob2.glob(path + \"*.bag\")\n",
    "RUN_THRESHOLD = 21000\n",
    "NUMBER_OF_ROBOTS = 20\n",
    "INITIAL_ID = 20\n",
    "NUMBER_OF_LEAVES = 16\n",
    "HASH_SIZE_IN_BYTES = 32\n",
    "LEAF_RANGE = range(16,17)\n",
    "\n",
    "FINISHING_TIMES = []\n",
    "COMPLETTION_SUCCESS = []\n",
    "COMMUNICATION_GRAPHS = []\n",
    "PRIVACY_COEFFICIENT = []\n",
    "COMMUNICATION_COST = []\n",
    "\n",
    "for _file in ALL_FILES:\n",
    "    DF = ROSBagToPandasDataFrame(_file)\n",
    "    FINISHING_TIMES.append(FinishingTimeOneRun(INITIAL_ID, NUMBER_OF_ROBOTS, RUN_THRESHOLD, DF))\n",
    "    COMMUNICATION_GRAPHS.append(ExtractCommunicationGraph(INITIAL_ID, NUMBER_OF_ROBOTS, NUMBER_OF_LEAVES, DF))\n",
    "    COMMUNICATION_COST.append(CommunicationCost(COMMUNICATION_GRAPHS[-1], NUMBER_OF_LEAVES, HASH_SIZE_IN_BYTES))\n",
    "    PRIVACY_COEFFICIENT.append(PrivacyCoefficient(INITIAL_ID, NUMBER_OF_ROBOTS, NUMBER_OF_LEAVES, DF))\n",
    "\n",
    "COMPLETION_SUCCESS = CompletionSuccess(RUN_THRESHOLD, FINISHING_TIMES)"
   ]
  },
  {
   "cell_type": "code",
   "execution_count": 18,
   "metadata": {},
   "outputs": [
    {
     "name": "stdout",
     "output_type": "stream",
     "text": [
      "Stored 'REALROBOT_FINISHING_TIMES' (list)\n",
      "Stored 'REALROBOT_COMMUNICATION_COST' (list)\n",
      "Stored 'REALROBOT_INFORMATION_DIVERSITY' (list)\n"
     ]
    }
   ],
   "source": [
    "REALROBOT_FINISHING_TIMES = FINISHING_TIMES\n",
    "REALROBOT_COMMUNICATION_COST = COMMUNICATION_COST\n",
    "REALROBOT_INFORMATION_DIVERSITY = PRIVACY_COEFFICIENT\n",
    "\n",
    "%store REALROBOT_FINISHING_TIMES\n",
    "%store REALROBOT_COMMUNICATION_COST\n",
    "%store REALROBOT_INFORMATION_DIVERSITY"
   ]
  },
  {
   "cell_type": "code",
   "execution_count": 19,
   "metadata": {},
   "outputs": [
    {
     "data": {
      "text/plain": [
       "[1881, 2411, 2689, 1693, 1406, 1872, 2322, 1747, 2141, 3022]"
      ]
     },
     "execution_count": 19,
     "metadata": {},
     "output_type": "execute_result"
    }
   ],
   "source": [
    "REALROBOT_FINISHING_TIMES"
   ]
  },
  {
   "cell_type": "code",
   "execution_count": 24,
   "metadata": {},
   "outputs": [
    {
     "data": {
      "text/plain": [
       "['/Users/eddie/experiments_results/5x5-16-robots/data/2020-03-21-17-38-08.bag',\n",
       " '/Users/eddie/experiments_results/5x5-16-robots/data/2020-03-13-16-06-38.bag',\n",
       " '/Users/eddie/experiments_results/5x5-16-robots/data/2020-03-12-03-18-13.bag',\n",
       " '/Users/eddie/experiments_results/5x5-16-robots/data/2020-03-15-16-00-38.bag',\n",
       " '/Users/eddie/experiments_results/5x5-16-robots/data/2020-03-21-19-03-32.bag',\n",
       " '/Users/eddie/experiments_results/5x5-16-robots/data/2020-02-14-22-59-25.bag',\n",
       " '/Users/eddie/experiments_results/5x5-16-robots/data/2020-04-23-15-07-21.bag',\n",
       " '/Users/eddie/experiments_results/5x5-16-robots/data/2020-02-16-04-14-03.bag',\n",
       " '/Users/eddie/experiments_results/5x5-16-robots/data/2020-02-14-02-26-23.bag',\n",
       " '/Users/eddie/experiments_results/5x5-16-robots/data/2020-03-12-01-32-10.bag']"
      ]
     },
     "execution_count": 24,
     "metadata": {},
     "output_type": "execute_result"
    }
   ],
   "source": [
    "ALL_FILES"
   ]
  },
  {
   "cell_type": "code",
   "execution_count": 25,
   "metadata": {},
   "outputs": [],
   "source": [
    "df = ROSBagToPandasDataFrame('/Users/eddie/experiments_results/5x5-16-robots/data/2020-04-23-15-07-21.bag')"
   ]
  },
  {
   "cell_type": "code",
   "execution_count": 26,
   "metadata": {},
   "outputs": [
    {
     "data": {
      "text/plain": [
       "2154"
      ]
     },
     "execution_count": 26,
     "metadata": {},
     "output_type": "execute_result"
    }
   ],
   "source": [
    "FinishingTimeOneRun(20, 16, 21000, df)"
   ]
  },
  {
   "cell_type": "code",
   "execution_count": null,
   "metadata": {},
   "outputs": [],
   "source": []
  }
 ],
 "metadata": {
  "kernelspec": {
   "display_name": "py27",
   "language": "python",
   "name": "py27"
  },
  "language_info": {
   "codemirror_mode": {
    "name": "ipython",
    "version": 2
   },
   "file_extension": ".py",
   "mimetype": "text/x-python",
   "name": "python",
   "nbconvert_exporter": "python",
   "pygments_lexer": "ipython2",
   "version": "2.7.17"
  }
 },
 "nbformat": 4,
 "nbformat_minor": 2
}
